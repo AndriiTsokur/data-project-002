{
 "cells": [
  {
   "cell_type": "markdown",
   "metadata": {},
   "source": [
    "# Exploring Hacker News Posts\n",
    "\n",
    "In this project, we'll compare two different types of posts from [Hacker News](https://news.ycombinator.com/), a popular site where technology related stories (or 'posts') are voted and commented upon. The two types of posts we'll explore begin with either `Ask HN` or `Show HN`.\n",
    "\n",
    "Users submit `Ask HN` posts to ask the Hacker News community a specific question, such as \"What is the best online course you've ever taken?\" Likewise, users submit `Show HN` posts to show the Hacker News community a project, product, or just generally something interesting.\n",
    "\n",
    "We'll specifically compare these two types of posts to determine the following:\n",
    "\n",
    "- Do `Ask HN` or `Show HN` receive more comments on average?\n",
    "- Do posts created at a certain time receive more comments on average?\n",
    "\n",
    "It should be noted that the data set we're working with was reduced from almost 300,000 rows to approximately 20,000 rows by removing all submissions that did not receive any comments, and then randomly sampling from the remaining submissions.\n",
    "\n",
    "## Introduction\n",
    "\n",
    "First, we'll read in the data and remove the headers."
   ]
  },
  {
   "cell_type": "code",
   "execution_count": 1,
   "metadata": {},
   "outputs": [
    {
     "data": {
      "text/plain": [
       "[['id', 'title', 'url', 'num_points', 'num_comments', 'author', 'created_at'],\n",
       " ['12224879',\n",
       "  'Interactive Dynamic Video',\n",
       "  'http://www.interactivedynamicvideo.com/',\n",
       "  '386',\n",
       "  '52',\n",
       "  'ne0phyte',\n",
       "  '8/4/2016 11:52'],\n",
       " ['10975351',\n",
       "  'How to Use Open Source and Shut the Fuck Up at the Same Time',\n",
       "  'http://hueniverse.com/2016/01/26/how-to-use-open-source-and-shut-the-fuck-up-at-the-same-time/',\n",
       "  '39',\n",
       "  '10',\n",
       "  'josep2',\n",
       "  '1/26/2016 19:30'],\n",
       " ['11964716',\n",
       "  \"Florida DJs May Face Felony for April Fools' Water Joke\",\n",
       "  'http://www.thewire.com/entertainment/2013/04/florida-djs-april-fools-water-joke/63798/',\n",
       "  '2',\n",
       "  '1',\n",
       "  'vezycash',\n",
       "  '6/23/2016 22:20'],\n",
       " ['11919867',\n",
       "  'Technology ventures: From Idea to Enterprise',\n",
       "  'https://www.amazon.com/Technology-Ventures-Enterprise-Thomas-Byers/dp/0073523429',\n",
       "  '3',\n",
       "  '1',\n",
       "  'hswarna',\n",
       "  '6/17/2016 0:01']]"
      ]
     },
     "execution_count": 1,
     "metadata": {},
     "output_type": "execute_result"
    }
   ],
   "source": [
    "from csv import reader\n",
    "\n",
    "opened_file = open('./hacker_news.csv')\n",
    "read_file = reader(opened_file)\n",
    "hn = list(read_file)\n",
    "hn[:5]"
   ]
  },
  {
   "cell_type": "markdown",
   "metadata": {},
   "source": [
    "## Removing Headers from a List of Lists"
   ]
  },
  {
   "cell_type": "code",
   "execution_count": 2,
   "metadata": {},
   "outputs": [
    {
     "name": "stdout",
     "output_type": "stream",
     "text": [
      "['id', 'title', 'url', 'num_points', 'num_comments', 'author', 'created_at']\n",
      "[['12224879', 'Interactive Dynamic Video', 'http://www.interactivedynamicvideo.com/', '386', '52', 'ne0phyte', '8/4/2016 11:52'], ['10975351', 'How to Use Open Source and Shut the Fuck Up at the Same Time', 'http://hueniverse.com/2016/01/26/how-to-use-open-source-and-shut-the-fuck-up-at-the-same-time/', '39', '10', 'josep2', '1/26/2016 19:30'], ['11964716', \"Florida DJs May Face Felony for April Fools' Water Joke\", 'http://www.thewire.com/entertainment/2013/04/florida-djs-april-fools-water-joke/63798/', '2', '1', 'vezycash', '6/23/2016 22:20'], ['11919867', 'Technology ventures: From Idea to Enterprise', 'https://www.amazon.com/Technology-Ventures-Enterprise-Thomas-Byers/dp/0073523429', '3', '1', 'hswarna', '6/17/2016 0:01'], ['10301696', 'Note by Note: The Making of Steinway L1037 (2007)', 'http://www.nytimes.com/2007/11/07/movies/07stein.html?_r=0', '8', '2', 'walterbell', '9/30/2015 4:12']]\n"
     ]
    }
   ],
   "source": [
    "# Remove the headers\n",
    "headers = hn[0]\n",
    "hn = hn[1:]\n",
    "print(headers)\n",
    "print(hn[:5])"
   ]
  },
  {
   "cell_type": "markdown",
   "metadata": {},
   "source": [
    "We can see above that the data set contains the title of the posts, the number of comments for each post, and the date the post was created. Let's start by exploring the number of comments for each type of post.\n",
    "\n",
    "## Extracting `Ask HN` and `Show HN` Posts\n",
    "\n",
    "First, we'll identify posts that begin with either `Ask HN` or `Show HN` and separate the data for those two types of posts into different lists. Separating the data makes it easier to analyze in the following steps."
   ]
  },
  {
   "cell_type": "code",
   "execution_count": 3,
   "metadata": {},
   "outputs": [
    {
     "name": "stdout",
     "output_type": "stream",
     "text": [
      "ASK posts found: 1756\n",
      "SHOW posts found: 1164\n",
      "Other posts found: 17180\n"
     ]
    }
   ],
   "source": [
    "# Identify posts that begin with either `Ask HN` or `Show HN` and separate the data into different lists\n",
    "ask_posts = []\n",
    "show_posts = []\n",
    "other_posts = []\n",
    "\n",
    "for row in hn:\n",
    "\ttitle = row[1].lower()\n",
    "\tif title.startswith('ask'):\n",
    "\t\task_posts.append(row)\n",
    "\telif title.startswith('show'):\n",
    "\t\tshow_posts.append(row)\n",
    "\telse:\n",
    "\t\tother_posts.append(row)\n",
    "\n",
    "print('ASK posts found:', len(ask_posts))\n",
    "print('SHOW posts found:', len(show_posts))\n",
    "print('Other posts found:', len(other_posts))"
   ]
  },
  {
   "cell_type": "markdown",
   "metadata": {},
   "source": [
    "## Calculating the Average Number of Comments for `Ask HN` and `Show HN` Posts\n",
    "\n",
    "Now that we separated ask posts and show posts into different lists, we'll calculate the average number of comments each type of post receives."
   ]
  },
  {
   "cell_type": "code",
   "execution_count": 4,
   "metadata": {},
   "outputs": [
    {
     "name": "stdout",
     "output_type": "stream",
     "text": [
      "Average ASK comments: 14.203302961275627\n"
     ]
    }
   ],
   "source": [
    "# Calculate the average number of comments `Ask HN` posts receive\n",
    "total_ask_comments = 0\n",
    "for row in ask_posts:\n",
    "\tcomments_number = int(row[4])\n",
    "\ttotal_ask_comments += comments_number\n",
    "avg_ask_comments = total_ask_comments / len(ask_posts)\n",
    "print('Average ASK comments:', avg_ask_comments)"
   ]
  },
  {
   "cell_type": "code",
   "execution_count": 5,
   "metadata": {},
   "outputs": [
    {
     "name": "stdout",
     "output_type": "stream",
     "text": [
      "Average SHOW comments: 10.323024054982818\n"
     ]
    }
   ],
   "source": [
    "# Calculate the average number of comments `Show HN` posts receive\n",
    "total_show_comments = 0\n",
    "for row in show_posts:\n",
    "\tcomments_number = int(row[4])\n",
    "\ttotal_show_comments += comments_number\n",
    "avg_show_comments = total_show_comments / len(show_posts)\n",
    "print('Average SHOW comments:', avg_show_comments)"
   ]
  },
  {
   "cell_type": "markdown",
   "metadata": {},
   "source": [
    "On average, `Ask HN` posts in our sample receive approximately 14 comments, whereas `Show HN` posts receive approximately 10. Since `Ask HN` posts are more likely to receive comments, we'll focus our remaining analysis just on these posts.\n",
    "\n",
    "## Finding the Amount of Ask Posts and Comments by Hour Created\n",
    "\n",
    "Next, we'll determine if we can maximize the amount of comments an `Ask HN` post receives by creating it at a certain time. First, we'll find the amount of `Ask HN` posts created during each hour of day, along with the number of comments those posts received. Then, we'll calculate the average amount of comments `Ask HN` posts created at each hour of the day receive."
   ]
  },
  {
   "cell_type": "code",
   "execution_count": 6,
   "metadata": {},
   "outputs": [
    {
     "name": "stdout",
     "output_type": "stream",
     "text": [
      "Posts by hour: {'09': 45, '13': 86, '10': 60, '14': 110, '16': 109, '23': 70, '12': 73, '17': 100, '15': 116, '21': 109, '20': 80, '02': 58, '18': 109, '03': 55, '05': 46, '19': 112, '01': 60, '22': 71, '08': 48, '04': 48, '00': 55, '06': 44, '07': 34, '11': 58}\n",
      "Comments by hour: {'09': 251, '13': 1254, '10': 794, '14': 1420, '16': 1949, '23': 713, '12': 687, '17': 1146, '15': 4477, '21': 1745, '20': 1722, '02': 1381, '18': 1439, '03': 459, '05': 464, '19': 1295, '01': 683, '22': 479, '08': 492, '04': 339, '00': 447, '06': 397, '07': 267, '11': 641}\n"
     ]
    }
   ],
   "source": [
    "# Calculate the amount of 'Ask HN' posts created during each hour of day and the number of comments received\n",
    "import datetime as dt\n",
    "\n",
    "result_list = []\n",
    "\n",
    "for row in ask_posts:\n",
    "\tcreated_at = row[6]\n",
    "\tcomments_number = int(row[4])\n",
    "\tresult_list.append([created_at, comments_number])\n",
    "\n",
    "posts_by_hour = {}\n",
    "comments_by_hour = {}\n",
    "date_format = '%m/%d/%Y %H:%M'\n",
    "\n",
    "for row in result_list:\n",
    "\tdate = row[0]\n",
    "\tcomments_number = row[1]\n",
    "\tdate_dt = dt.datetime.strptime(date, date_format)\n",
    "\ttime = date_dt.strftime('%H')\n",
    "\n",
    "\tif time not in posts_by_hour:\n",
    "\t\tposts_by_hour[time] = 1\n",
    "\t\tcomments_by_hour[time] = comments_number\n",
    "\telse:\n",
    "\t\tposts_by_hour[time] += 1\n",
    "\t\tcomments_by_hour[time] += comments_number\n",
    "\n",
    "print('Posts by hour:', posts_by_hour)\n",
    "print('Comments by hour:', comments_by_hour)"
   ]
  },
  {
   "cell_type": "markdown",
   "metadata": {},
   "source": [
    "## Calculating the Average Number of Comments for `Ask HN` Posts by Hour"
   ]
  },
  {
   "cell_type": "code",
   "execution_count": 7,
   "metadata": {},
   "outputs": [
    {
     "data": {
      "text/plain": [
       "[['09', 5.5777777777777775],\n",
       " ['13', 14.581395348837209],\n",
       " ['10', 13.233333333333333],\n",
       " ['14', 12.909090909090908],\n",
       " ['16', 17.880733944954127],\n",
       " ['23', 10.185714285714285],\n",
       " ['12', 9.41095890410959],\n",
       " ['17', 11.46],\n",
       " ['15', 38.5948275862069],\n",
       " ['21', 16.009174311926607],\n",
       " ['20', 21.525],\n",
       " ['02', 23.810344827586206],\n",
       " ['18', 13.20183486238532],\n",
       " ['03', 8.345454545454546],\n",
       " ['05', 10.08695652173913],\n",
       " ['19', 11.5625],\n",
       " ['01', 11.383333333333333],\n",
       " ['22', 6.746478873239437],\n",
       " ['08', 10.25],\n",
       " ['04', 7.0625],\n",
       " ['00', 8.127272727272727],\n",
       " ['06', 9.022727272727273],\n",
       " ['07', 7.852941176470588],\n",
       " ['11', 11.051724137931034]]"
      ]
     },
     "execution_count": 7,
     "metadata": {},
     "output_type": "execute_result"
    }
   ],
   "source": [
    "# Calculate the average amount of comments `Ask HN` posts created at each hour of the day receive\n",
    "avg_comments_by_hour = []\n",
    "\n",
    "for each_hour in comments_by_hour:\n",
    "\tavg_comments_by_hour.append([each_hour, comments_by_hour[each_hour] / posts_by_hour[each_hour]])\n",
    "\n",
    "avg_comments_by_hour"
   ]
  },
  {
   "cell_type": "markdown",
   "metadata": {},
   "source": [
    "## Sorting and Printing Values from a List of Lists"
   ]
  },
  {
   "cell_type": "code",
   "execution_count": 8,
   "metadata": {},
   "outputs": [
    {
     "name": "stdout",
     "output_type": "stream",
     "text": [
      "[[5.5777777777777775, '09'], [14.581395348837209, '13'], [13.233333333333333, '10'], [12.909090909090908, '14'], [17.880733944954127, '16'], [10.185714285714285, '23'], [9.41095890410959, '12'], [11.46, '17'], [38.5948275862069, '15'], [16.009174311926607, '21'], [21.525, '20'], [23.810344827586206, '02'], [13.20183486238532, '18'], [8.345454545454546, '03'], [10.08695652173913, '05'], [11.5625, '19'], [11.383333333333333, '01'], [6.746478873239437, '22'], [10.25, '08'], [7.0625, '04'], [8.127272727272727, '00'], [9.022727272727273, '06'], [7.852941176470588, '07'], [11.051724137931034, '11']]\n"
     ]
    },
    {
     "data": {
      "text/plain": [
       "[[38.5948275862069, '15'],\n",
       " [23.810344827586206, '02'],\n",
       " [21.525, '20'],\n",
       " [17.880733944954127, '16'],\n",
       " [16.009174311926607, '21'],\n",
       " [14.581395348837209, '13'],\n",
       " [13.233333333333333, '10'],\n",
       " [13.20183486238532, '18'],\n",
       " [12.909090909090908, '14'],\n",
       " [11.5625, '19'],\n",
       " [11.46, '17'],\n",
       " [11.383333333333333, '01'],\n",
       " [11.051724137931034, '11'],\n",
       " [10.25, '08'],\n",
       " [10.185714285714285, '23'],\n",
       " [10.08695652173913, '05'],\n",
       " [9.41095890410959, '12'],\n",
       " [9.022727272727273, '06'],\n",
       " [8.345454545454546, '03'],\n",
       " [8.127272727272727, '00'],\n",
       " [7.852941176470588, '07'],\n",
       " [7.0625, '04'],\n",
       " [6.746478873239437, '22'],\n",
       " [5.5777777777777775, '09']]"
      ]
     },
     "execution_count": 8,
     "metadata": {},
     "output_type": "execute_result"
    }
   ],
   "source": [
    "swap_avg_comments_by_hour = []\n",
    "for row in avg_comments_by_hour:\n",
    "\tswap_avg_comments_by_hour.append([row[1], row[0]])\n",
    "\n",
    "print(swap_avg_comments_by_hour)\n",
    "\n",
    "sorted_swap = sorted(swap_avg_comments_by_hour, reverse=True)\n",
    "sorted_swap"
   ]
  },
  {
   "cell_type": "code",
   "execution_count": 10,
   "metadata": {},
   "outputs": [
    {
     "name": "stdout",
     "output_type": "stream",
     "text": [
      "Top 5 Hours for ASK Posts Comments:\n",
      "15:00: 38.59 average comments per post\n",
      "02:00: 23.81 average comments per post\n",
      "20:00: 21.52 average comments per post\n",
      "16:00: 17.88 average comments per post\n",
      "21:00: 16.01 average comments per post\n"
     ]
    }
   ],
   "source": [
    "# Sort the values and print the the 5 hours with the highest average comments\n",
    "print('Top 5 Hours for ASK Posts Comments:')\n",
    "\n",
    "for row in sorted_swap[:5]:\n",
    "\ttime = dt.datetime.strptime(row[1], '%H').strftime('%H:%M')\n",
    "\tcomments_number = row[0]\n",
    "\tprint(f'{time}: {comments_number:.2f} average comments per post')"
   ]
  },
  {
   "cell_type": "markdown",
   "metadata": {},
   "source": [
    "The hour that receives the most comments per post on average is 15:00, with an average of 38.59 comments per post. There's about a 60% increase in the number of comments between the hours with the highest and second highest average number of comments.\n",
    "\n",
    "According to the data set [documentation](https://www.kaggle.com/hacker-news/hacker-news-posts/home), the timezone used is Eastern Time in the US. So, we could also write 15:00 as 3:00 pm est.\n",
    "\n",
    "## Conclusion\n",
    "\n",
    "In this project, we analyzed `Ask HN` posts and `Show HN` posts to determine which type of post and time receive the most comments on average. Based on our analysis, to maximize the amount of comments a post receives, we'd recommend the post be categorized as `Ask HN` post and created between 15:00 and 16:00 (3:00 pm est - 4:00 pm est).\n",
    "\n",
    "However, it should be noted that the data set we analyzed excluded posts without any comments. Given that, it's more accurate to say that _of the posts that received comments_, ask posts received more comments on average and `Ask HN` posts created between 15:00 and 16:00 (3:00 pm est - 4:00 pm est) received the most comments on average."
   ]
  }
 ],
 "metadata": {
  "kernelspec": {
   "display_name": "Python 3 (ipykernel)",
   "language": "python",
   "name": "python3"
  },
  "language_info": {
   "codemirror_mode": {
    "name": "ipython",
    "version": 3
   },
   "file_extension": ".py",
   "mimetype": "text/x-python",
   "name": "python",
   "nbconvert_exporter": "python",
   "pygments_lexer": "ipython3",
   "version": "3.12.4"
  }
 },
 "nbformat": 4,
 "nbformat_minor": 4
}
